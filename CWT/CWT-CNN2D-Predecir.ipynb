{
 "cells": [
  {
   "cell_type": "markdown",
   "metadata": {
    "colab_type": "text",
    "id": "__5EnqFCehUS"
   },
   "source": [
    "### Edgar Moises Hernandez-Gonzalez\n",
    "#### 25/06/20\n",
    "#### Clasificacion de calculo mental en EEG con CNN-2D\n",
    "#### Cargar modelo para evaluacion y predecir\n",
    "##### Caracteristicas = Escalogramas CWT (3D)\n",
    "##### Resize proporcional de (45 x n_canales / 2) x 1440 / 2 [720x672]"
   ]
  },
  {
   "cell_type": "code",
   "execution_count": 1,
   "metadata": {
    "cellView": "both",
    "colab": {},
    "colab_type": "code",
    "executionInfo": {
     "elapsed": 355,
     "status": "ok",
     "timestamp": 1593145355984,
     "user": {
      "displayName": "Edgar Hernandez",
      "photoUrl": "",
      "userId": "00870877253637619537"
     },
     "user_tz": 300
    },
    "id": "HCFt4gp9edkz"
   },
   "outputs": [],
   "source": [
    "# from google.colab import drive"
   ]
  },
  {
   "cell_type": "code",
   "execution_count": 2,
   "metadata": {
    "colab": {
     "base_uri": "https://localhost:8080/",
     "height": 36
    },
    "colab_type": "code",
    "executionInfo": {
     "elapsed": 493,
     "status": "ok",
     "timestamp": 1593145356131,
     "user": {
      "displayName": "Edgar Hernandez",
      "photoUrl": "",
      "userId": "00870877253637619537"
     },
     "user_tz": 300
    },
    "id": "Yk0GL0mtfDsi",
    "outputId": "3a334797-40cc-447d-be22-b7ba98783728"
   },
   "outputs": [
    {
     "name": "stdout",
     "output_type": "stream",
     "text": [
      "Drive already mounted at /content/drive; to attempt to forcibly remount, call drive.mount(\"/content/drive\", force_remount=True).\n"
     ]
    }
   ],
   "source": [
    "# drive.mount('/content/drive')"
   ]
  },
  {
   "cell_type": "code",
   "execution_count": 1,
   "metadata": {
    "colab": {
     "base_uri": "https://localhost:8080/",
     "height": 36
    },
    "colab_type": "code",
    "executionInfo": {
     "elapsed": 2423,
     "status": "ok",
     "timestamp": 1593145358067,
     "user": {
      "displayName": "Edgar Hernandez",
      "photoUrl": "",
      "userId": "00870877253637619537"
     },
     "user_tz": 300
    },
    "id": "sxaMTtfnfKSv",
    "outputId": "92a08fde-fe2f-4ac7-d3c1-8ed79addc6e5"
   },
   "outputs": [
    {
     "name": "stderr",
     "output_type": "stream",
     "text": [
      "Using TensorFlow backend.\n"
     ]
    }
   ],
   "source": [
    "import numpy as np\n",
    "import pandas as pd\n",
    "# import matplotlib.pyplot as plt\n",
    "import time\n",
    "import pywt\n",
    "import cv2\n",
    "from sklearn.metrics import f1_score, confusion_matrix, roc_auc_score, roc_curve\n",
    "from keras.models import load_model"
   ]
  },
  {
   "cell_type": "code",
   "execution_count": 2,
   "metadata": {
    "colab": {},
    "colab_type": "code",
    "id": "9vvMuw11fTsH"
   },
   "outputs": [],
   "source": [
    "# todos los canales\n",
    "x = pd.read_csv(\"../Datos/MeCa_car_01_2.csv\", header=None)\n",
    "\n",
    "# etiquetas\n",
    "y = pd.read_csv(\"../Datos/EtiquetasMeCa01ACLL-02.csv\", header=None).values"
   ]
  },
  {
   "cell_type": "code",
   "execution_count": 3,
   "metadata": {
    "colab": {
     "base_uri": "https://localhost:8080/",
     "height": 54
    },
    "colab_type": "code",
    "executionInfo": {
     "elapsed": 595,
     "status": "ok",
     "timestamp": 1593139217846,
     "user": {
      "displayName": "Edgar Hernandez",
      "photoUrl": "",
      "userId": "00870877253637619537"
     },
     "user_tz": 300
    },
    "id": "SoF1Nx-nfuy8",
    "outputId": "4952dada-7cea-4477-83a4-18f330d38d89"
   },
   "outputs": [
    {
     "name": "stdout",
     "output_type": "stream",
     "text": [
      "(312, 43008)\n",
      "(312, 1)\n"
     ]
    }
   ],
   "source": [
    "print(x.shape)\n",
    "print(y.shape)"
   ]
  },
  {
   "cell_type": "code",
   "execution_count": 4,
   "metadata": {
    "colab": {},
    "colab_type": "code",
    "id": "gc9W-SMOfxZC"
   },
   "outputs": [],
   "source": [
    "# unir 32 canales y resize de tamaño proporcional\n",
    "def unir_escalogramas_vertical(data):\n",
    "  dim = (672, 720) #ancho, alto\n",
    "  fs = 512\n",
    "  escalas = pywt.scale2frequency('cmor3-3', np.arange(8,30.5,0.5)) / (1/fs)\n",
    "  datos = np.zeros((data.shape[0],720,672))\n",
    "  temporal = np.zeros((1440,1344))\n",
    "  for i in range(data.shape[0]): #n muestras\n",
    "    for j in range(32): #n canales\n",
    "      sig = data.iloc[i, j*1344:(j+1)*1344]\n",
    "      #sig = sig[160:1184]\n",
    "      #escalograma CWT\n",
    "      coef, freqs = pywt.cwt(sig, escalas, 'cmor3-3', sampling_period = (1 / 512))\n",
    "      temporal[j*45:(j+1)*45, :] = abs(coef)\n",
    "    resized = cv2.resize(temporal, dim, interpolation=cv2.INTER_AREA)\n",
    "    datos[i] = resized\n",
    "    if i % 100 == 0: #esto solo es para ver como avanza\n",
    "      print(i)\n",
    "  return datos"
   ]
  },
  {
   "cell_type": "code",
   "execution_count": 5,
   "metadata": {
    "colab": {
     "base_uri": "https://localhost:8080/",
     "height": 111
    },
    "colab_type": "code",
    "executionInfo": {
     "elapsed": 455369,
     "status": "ok",
     "timestamp": 1593139765805,
     "user": {
      "displayName": "Edgar Hernandez",
      "photoUrl": "",
      "userId": "00870877253637619537"
     },
     "user_tz": 300
    },
    "id": "TKqLHpURfxr5",
    "outputId": "a55f7afe-1d73-4c46-9c68-8ff7beefa489"
   },
   "outputs": [
    {
     "name": "stdout",
     "output_type": "stream",
     "text": [
      "0\n",
      "100\n",
      "200\n",
      "300\n",
      "Tiempo: 391.771062374115\n"
     ]
    }
   ],
   "source": [
    "# llamar a unir_escalogramas_vertical\n",
    "inicio = time.time()\n",
    "\n",
    "x = unir_escalogramas_vertical(x)\n",
    "\n",
    "fin = time.time()\n",
    "print(\"Tiempo:\", fin - inicio)"
   ]
  },
  {
   "cell_type": "code",
   "execution_count": 6,
   "metadata": {
    "colab": {
     "base_uri": "https://localhost:8080/",
     "height": 36
    },
    "colab_type": "code",
    "executionInfo": {
     "elapsed": 445820,
     "status": "ok",
     "timestamp": 1593139765808,
     "user": {
      "displayName": "Edgar Hernandez",
      "photoUrl": "",
      "userId": "00870877253637619537"
     },
     "user_tz": 300
    },
    "id": "pPil6VO8fxxN",
    "outputId": "e706d81c-0085-4f82-8155-c33394abe170"
   },
   "outputs": [
    {
     "name": "stdout",
     "output_type": "stream",
     "text": [
      "(312, 720, 672)\n"
     ]
    }
   ],
   "source": [
    "print(x.shape)"
   ]
  },
  {
   "cell_type": "code",
   "execution_count": 7,
   "metadata": {
    "colab": {},
    "colab_type": "code",
    "id": "yRAdebAKfx2Z"
   },
   "outputs": [],
   "source": [
    "# convertir a float\n",
    "x = x.astype('float32')\n",
    "\n",
    "# escalar los valores en un rango de 0 a 1 (normalizar)\n",
    "x /= np.ceil(np.max(x))"
   ]
  },
  {
   "cell_type": "code",
   "execution_count": 8,
   "metadata": {
    "colab": {
     "base_uri": "https://localhost:8080/",
     "height": 36
    },
    "colab_type": "code",
    "executionInfo": {
     "elapsed": 512,
     "status": "ok",
     "timestamp": 1593141481245,
     "user": {
      "displayName": "Edgar Hernandez",
      "photoUrl": "",
      "userId": "00870877253637619537"
     },
     "user_tz": 300
    },
    "id": "KZaak33Vfx6r",
    "outputId": "456b7585-2c97-48aa-b503-13af42279951"
   },
   "outputs": [
    {
     "name": "stdout",
     "output_type": "stream",
     "text": [
      "(312, 720, 672, 1)\n"
     ]
    }
   ],
   "source": [
    "# convertir de 3D a 4D\n",
    "x = x.reshape((x.shape[0], x.shape[1], x.shape[2], 1))\n",
    "\n",
    "print(x.shape)"
   ]
  },
  {
   "cell_type": "code",
   "execution_count": 11,
   "metadata": {
    "colab": {},
    "colab_type": "code",
    "id": "k4pDLGUCgVac"
   },
   "outputs": [],
   "source": [
    "model = load_model('../Modelos/Model_CWT_01_1_CV.hdf5')"
   ]
  },
  {
   "cell_type": "code",
   "execution_count": 12,
   "metadata": {
    "colab": {
     "base_uri": "https://localhost:8080/",
     "height": 466
    },
    "colab_type": "code",
    "executionInfo": {
     "elapsed": 3884,
     "status": "ok",
     "timestamp": 1593139770014,
     "user": {
      "displayName": "Edgar Hernandez",
      "photoUrl": "",
      "userId": "00870877253637619537"
     },
     "user_tz": 300
    },
    "id": "a7MurORngVix",
    "outputId": "c617a22d-2f29-446f-d9f8-8c2606adc131"
   },
   "outputs": [
    {
     "name": "stdout",
     "output_type": "stream",
     "text": [
      "Model: \"sequential_3\"\n",
      "_________________________________________________________________\n",
      "Layer (type)                 Output Shape              Param #   \n",
      "=================================================================\n",
      "conv2d_5 (Conv2D)            (None, 720, 672, 8)       368       \n",
      "_________________________________________________________________\n",
      "max_pooling2d_5 (MaxPooling2 (None, 360, 336, 8)       0         \n",
      "_________________________________________________________________\n",
      "conv2d_6 (Conv2D)            (None, 360, 336, 8)       2888      \n",
      "_________________________________________________________________\n",
      "max_pooling2d_6 (MaxPooling2 (None, 180, 168, 8)       0         \n",
      "_________________________________________________________________\n",
      "flatten_3 (Flatten)          (None, 241920)            0         \n",
      "_________________________________________________________________\n",
      "dense_5 (Dense)              (None, 64)                15482944  \n",
      "_________________________________________________________________\n",
      "dropout_3 (Dropout)          (None, 64)                0         \n",
      "_________________________________________________________________\n",
      "dense_6 (Dense)              (None, 2)                 130       \n",
      "=================================================================\n",
      "Total params: 15,486,330\n",
      "Trainable params: 15,486,330\n",
      "Non-trainable params: 0\n",
      "_________________________________________________________________\n"
     ]
    }
   ],
   "source": [
    "model.summary()"
   ]
  },
  {
   "cell_type": "code",
   "execution_count": 13,
   "metadata": {
    "colab": {},
    "colab_type": "code",
    "id": "xO6avdiqgVgP"
   },
   "outputs": [],
   "source": [
    "test_loss, test_acc = model.evaluate(x, y, verbose=0)"
   ]
  },
  {
   "cell_type": "code",
   "execution_count": 14,
   "metadata": {
    "colab": {
     "base_uri": "https://localhost:8080/",
     "height": 54
    },
    "colab_type": "code",
    "executionInfo": {
     "elapsed": 39757,
     "status": "ok",
     "timestamp": 1593141546381,
     "user": {
      "displayName": "Edgar Hernandez",
      "photoUrl": "",
      "userId": "00870877253637619537"
     },
     "user_tz": 300
    },
    "id": "K_Iqd_BEgVeZ",
    "outputId": "fa57e727-317b-4cad-f176-776210e790a6"
   },
   "outputs": [
    {
     "name": "stdout",
     "output_type": "stream",
     "text": [
      "loss: 0.6496\n",
      "accuracy: 0.8013\n"
     ]
    }
   ],
   "source": [
    "print(\"loss: %.4f\" % test_loss)\n",
    "print(\"accuracy: %.4f\" % test_acc)"
   ]
  },
  {
   "cell_type": "code",
   "execution_count": 15,
   "metadata": {
    "colab": {},
    "colab_type": "code",
    "id": "5chp76ocgf2h"
   },
   "outputs": [],
   "source": [
    "probabilidades = model.predict(x)\n",
    "y_pred_todo = np.argmax(probabilidades, 1) #1=fila"
   ]
  },
  {
   "cell_type": "code",
   "execution_count": 16,
   "metadata": {
    "colab": {
     "base_uri": "https://localhost:8080/",
     "height": 36
    },
    "colab_type": "code",
    "executionInfo": {
     "elapsed": 101120,
     "status": "ok",
     "timestamp": 1593141608031,
     "user": {
      "displayName": "Edgar Hernandez",
      "photoUrl": "",
      "userId": "00870877253637619537"
     },
     "user_tz": 300
    },
    "id": "JdZyDCQ-gf8T",
    "outputId": "364103ee-8fa9-4a85-e1a6-fda836d0d995"
   },
   "outputs": [
    {
     "name": "stdout",
     "output_type": "stream",
     "text": [
      "f1: 0.7976145637162586\n"
     ]
    }
   ],
   "source": [
    "f1 = f1_score(y, y_pred_todo, average='macro')\n",
    "print(\"f1:\", f1)"
   ]
  },
  {
   "cell_type": "code",
   "execution_count": 17,
   "metadata": {
    "colab": {
     "base_uri": "https://localhost:8080/",
     "height": 73
    },
    "colab_type": "code",
    "executionInfo": {
     "elapsed": 100953,
     "status": "ok",
     "timestamp": 1593141608032,
     "user": {
      "displayName": "Edgar Hernandez",
      "photoUrl": "",
      "userId": "00870877253637619537"
     },
     "user_tz": 300
    },
    "id": "BY5qjIyIggAJ",
    "outputId": "362a504e-9bf9-4faf-ee35-fae4bf712db6"
   },
   "outputs": [
    {
     "name": "stdout",
     "output_type": "stream",
     "text": [
      "confusion matrix:\n",
      " [[104  10]\n",
      " [ 52 146]]\n"
     ]
    }
   ],
   "source": [
    "matriz_confusion = confusion_matrix(y, y_pred_todo)\n",
    "print(\"confusion matrix:\\n\", matriz_confusion)  "
   ]
  },
  {
   "cell_type": "code",
   "execution_count": 18,
   "metadata": {
    "colab": {
     "base_uri": "https://localhost:8080/",
     "height": 36
    },
    "colab_type": "code",
    "executionInfo": {
     "elapsed": 100458,
     "status": "ok",
     "timestamp": 1593141608034,
     "user": {
      "displayName": "Edgar Hernandez",
      "photoUrl": "",
      "userId": "00870877253637619537"
     },
     "user_tz": 300
    },
    "id": "9M080F8Dgf5o",
    "outputId": "14ad6251-0a9f-4893-cceb-f81746542bd2"
   },
   "outputs": [
    {
     "name": "stdout",
     "output_type": "stream",
     "text": [
      "AUC: 0.9110\n"
     ]
    }
   ],
   "source": [
    "probabilidades = probabilidades[:, 1]\n",
    "auc = roc_auc_score(y, probabilidades)\n",
    "#fpr, tpr, thresholds = roc_curve(y, probabilidades)\n",
    "\n",
    "print(\"AUC: %.4f\" % auc)\n",
    "#plt.plot(fpr, tpr)\n",
    "#plt.grid()\n",
    "#plt.xlabel('False Positive Rate')\n",
    "#plt.ylabel('True Positive Rate')\n",
    "#plt.show()"
   ]
  }
 ],
 "metadata": {
  "colab": {
   "authorship_tag": "ABX9TyMLK2rn6MmN1GQejAjXuBJH",
   "collapsed_sections": [],
   "name": "CWT-CNN2D-Predecir.ipynb",
   "provenance": []
  },
  "kernelspec": {
   "display_name": "Python 3",
   "language": "python",
   "name": "python3"
  },
  "language_info": {
   "codemirror_mode": {
    "name": "ipython",
    "version": 3
   },
   "file_extension": ".py",
   "mimetype": "text/x-python",
   "name": "python",
   "nbconvert_exporter": "python",
   "pygments_lexer": "ipython3",
   "version": "3.7.6"
  }
 },
 "nbformat": 4,
 "nbformat_minor": 1
}
