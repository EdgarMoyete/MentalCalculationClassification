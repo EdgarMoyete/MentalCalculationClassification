{
 "cells": [
  {
   "cell_type": "markdown",
   "metadata": {
    "colab_type": "text",
    "id": "IZIheDVLVbPA"
   },
   "source": [
    "### Edgar Moises Hernandez-Gonzalez\n",
    "#### 25/06/20\n",
    "#### Clasificacion de calculo mental en EEG con CNN-2D\n",
    "#### Cargar modelo para evaluacion y predecir\n",
    "##### Caracteristicas = Espectrogramas STFT (3D)\n",
    "##### Resize proporcional de (45 x n_canales) x 27 [1440x27]"
   ]
  },
  {
   "cell_type": "code",
   "execution_count": null,
   "metadata": {
    "colab": {},
    "colab_type": "code",
    "id": "AMMNjLptVW1e"
   },
   "outputs": [],
   "source": [
    "# from google.colab import drive"
   ]
  },
  {
   "cell_type": "code",
   "execution_count": null,
   "metadata": {
    "colab": {
     "base_uri": "https://localhost:8080/",
     "height": 36
    },
    "colab_type": "code",
    "executionInfo": {
     "elapsed": 857,
     "status": "ok",
     "timestamp": 1593138641908,
     "user": {
      "displayName": "Edgar Hernandez",
      "photoUrl": "",
      "userId": "00870877253637619537"
     },
     "user_tz": 300
    },
    "id": "ZvhChOzIVesT",
    "outputId": "8e0d8468-1759-4044-9087-e8f41691afef"
   },
   "outputs": [
    {
     "name": "stdout",
     "output_type": "stream",
     "text": [
      "Drive already mounted at /content/drive; to attempt to forcibly remount, call drive.mount(\"/content/drive\", force_remount=True).\n"
     ]
    }
   ],
   "source": [
    "# drive.mount('/content/drive')"
   ]
  },
  {
   "cell_type": "code",
   "execution_count": 1,
   "metadata": {
    "colab": {
     "base_uri": "https://localhost:8080/",
     "height": 36
    },
    "colab_type": "code",
    "executionInfo": {
     "elapsed": 2506,
     "status": "ok",
     "timestamp": 1593138643808,
     "user": {
      "displayName": "Edgar Hernandez",
      "photoUrl": "",
      "userId": "00870877253637619537"
     },
     "user_tz": 300
    },
    "id": "lUazQ9ORWVpp",
    "outputId": "d96db2e7-d6ee-456a-83da-2c3dfdfbd9ec"
   },
   "outputs": [
    {
     "name": "stderr",
     "output_type": "stream",
     "text": [
      "Using TensorFlow backend.\n"
     ]
    }
   ],
   "source": [
    "import numpy as np\n",
    "import pandas as pd\n",
    "# import matplotlib.pyplot as plt\n",
    "import time\n",
    "from scipy.signal import spectrogram\n",
    "from sklearn.metrics import f1_score, confusion_matrix, roc_auc_score, roc_curve\n",
    "from keras.models import load_model"
   ]
  },
  {
   "cell_type": "code",
   "execution_count": 2,
   "metadata": {
    "colab": {},
    "colab_type": "code",
    "id": "eqbfaB7MWVvA"
   },
   "outputs": [],
   "source": [
    "# todos los canales\n",
    "x = pd.read_csv(\"../Datos/MeCa_car_01_2.csv\", header=None)\n",
    "\n",
    "# etiquetas\n",
    "y = pd.read_csv(\"../Datos/EtiquetasMeCa01ACLL-02.csv\", header=None).values"
   ]
  },
  {
   "cell_type": "code",
   "execution_count": 3,
   "metadata": {
    "colab": {
     "base_uri": "https://localhost:8080/",
     "height": 54
    },
    "colab_type": "code",
    "executionInfo": {
     "elapsed": 20528,
     "status": "ok",
     "timestamp": 1593138668550,
     "user": {
      "displayName": "Edgar Hernandez",
      "photoUrl": "",
      "userId": "00870877253637619537"
     },
     "user_tz": 300
    },
    "id": "BnHEGyTKWV04",
    "outputId": "939ddb11-8e61-408d-e5fc-2fee04cdf00a"
   },
   "outputs": [
    {
     "name": "stdout",
     "output_type": "stream",
     "text": [
      "(312, 43008)\n",
      "(312, 1)\n"
     ]
    }
   ],
   "source": [
    "print(x.shape)\n",
    "print(y.shape)"
   ]
  },
  {
   "cell_type": "code",
   "execution_count": 4,
   "metadata": {
    "colab": {},
    "colab_type": "code",
    "id": "08IJLKXuWWGf"
   },
   "outputs": [],
   "source": [
    "# unir 32 canales y resize de tamaño proporcional\n",
    "def unir_espectrogramas_vertical(data):\n",
    "  fs = 512\n",
    "  datos = np.zeros((data.shape[0],1440,27))\n",
    "  temporal = np.zeros((1440,27))\n",
    "  for i in range(data.shape[0]): #n muestras\n",
    "    for j in range(32): #n canales\n",
    "      sig = data.iloc[i, j*1344:(j+1)*1344]\n",
    "      #sig = sig[160:1184]\n",
    "      #espectrograma de STFFT\n",
    "      f, t, Sxx = spectrogram(sig, fs=512, window='hann', nperseg=512,\n",
    "                              noverlap=480, nfft=1024, scaling='spectrum')\n",
    "      temporal[j*45:(j+1)*45, :] = Sxx[16:61, :]\n",
    "    datos[i] = temporal\n",
    "    if i % 100 == 0: #esto solo es para ver como avanza\n",
    "      print(i)\n",
    "  return datos"
   ]
  },
  {
   "cell_type": "code",
   "execution_count": 5,
   "metadata": {
    "colab": {
     "base_uri": "https://localhost:8080/",
     "height": 111
    },
    "colab_type": "code",
    "executionInfo": {
     "elapsed": 31440,
     "status": "ok",
     "timestamp": 1593138679712,
     "user": {
      "displayName": "Edgar Hernandez",
      "photoUrl": "",
      "userId": "00870877253637619537"
     },
     "user_tz": 300
    },
    "id": "3KIv2GQQWWMZ",
    "outputId": "2066c436-91f9-42df-9c51-c683c8db028c"
   },
   "outputs": [
    {
     "name": "stdout",
     "output_type": "stream",
     "text": [
      "0\n",
      "100\n",
      "200\n",
      "300\n",
      "Tiempo: 7.880870580673218\n"
     ]
    }
   ],
   "source": [
    "# llamar a unir_espectrogramas_vertical\n",
    "inicio = time.time()\n",
    "\n",
    "x = unir_espectrogramas_vertical(x)\n",
    "\n",
    "fin = time.time()\n",
    "print(\"Tiempo:\", fin - inicio)"
   ]
  },
  {
   "cell_type": "code",
   "execution_count": 6,
   "metadata": {
    "colab": {
     "base_uri": "https://localhost:8080/",
     "height": 36
    },
    "colab_type": "code",
    "executionInfo": {
     "elapsed": 31170,
     "status": "ok",
     "timestamp": 1593138679721,
     "user": {
      "displayName": "Edgar Hernandez",
      "photoUrl": "",
      "userId": "00870877253637619537"
     },
     "user_tz": 300
    },
    "id": "YmjXy3UOWWSP",
    "outputId": "ce61691f-d50a-470c-dd45-42f914ace585"
   },
   "outputs": [
    {
     "name": "stdout",
     "output_type": "stream",
     "text": [
      "(312, 1440, 27)\n"
     ]
    }
   ],
   "source": [
    "print(x.shape)"
   ]
  },
  {
   "cell_type": "code",
   "execution_count": 7,
   "metadata": {
    "colab": {},
    "colab_type": "code",
    "id": "WvoDmo2UWWd7"
   },
   "outputs": [],
   "source": [
    "# convertir a float\n",
    "x = x.astype('float32')\n",
    "\n",
    "# escalar los valores en un rango de 0 a 1 (normalizar)\n",
    "x /= np.ceil(np.max(x))"
   ]
  },
  {
   "cell_type": "code",
   "execution_count": 8,
   "metadata": {
    "colab": {
     "base_uri": "https://localhost:8080/",
     "height": 36
    },
    "colab_type": "code",
    "executionInfo": {
     "elapsed": 30754,
     "status": "ok",
     "timestamp": 1593138679737,
     "user": {
      "displayName": "Edgar Hernandez",
      "photoUrl": "",
      "userId": "00870877253637619537"
     },
     "user_tz": 300
    },
    "id": "rxjP0HEZWWwv",
    "outputId": "b828b86f-45b8-4ed2-ef14-ca5c90b01c18"
   },
   "outputs": [
    {
     "name": "stdout",
     "output_type": "stream",
     "text": [
      "(312, 1440, 27, 1)\n"
     ]
    }
   ],
   "source": [
    "# convertir de 3D a 4D\n",
    "x = x.reshape((x.shape[0], x.shape[1], x.shape[2], 1))\n",
    "\n",
    "print(x.shape)"
   ]
  },
  {
   "cell_type": "code",
   "execution_count": 9,
   "metadata": {
    "colab": {},
    "colab_type": "code",
    "id": "9hWPaKwyWW2J"
   },
   "outputs": [],
   "source": [
    "model = load_model('../Modelos/Model_STFT_01_1_CV.hdf5')"
   ]
  },
  {
   "cell_type": "code",
   "execution_count": 10,
   "metadata": {
    "colab": {
     "base_uri": "https://localhost:8080/",
     "height": 466
    },
    "colab_type": "code",
    "executionInfo": {
     "elapsed": 30751,
     "status": "ok",
     "timestamp": 1593138680504,
     "user": {
      "displayName": "Edgar Hernandez",
      "photoUrl": "",
      "userId": "00870877253637619537"
     },
     "user_tz": 300
    },
    "id": "pefDY-LeWW6S",
    "outputId": "ed207cec-133a-4805-a4be-f2e6683d3478"
   },
   "outputs": [
    {
     "name": "stdout",
     "output_type": "stream",
     "text": [
      "Model: \"sequential_4\"\n",
      "_________________________________________________________________\n",
      "Layer (type)                 Output Shape              Param #   \n",
      "=================================================================\n",
      "conv2d_7 (Conv2D)            (None, 1440, 27, 2)       20        \n",
      "_________________________________________________________________\n",
      "max_pooling2d_7 (MaxPooling2 (None, 720, 13, 2)        0         \n",
      "_________________________________________________________________\n",
      "conv2d_8 (Conv2D)            (None, 720, 13, 2)        38        \n",
      "_________________________________________________________________\n",
      "max_pooling2d_8 (MaxPooling2 (None, 360, 6, 2)         0         \n",
      "_________________________________________________________________\n",
      "flatten_4 (Flatten)          (None, 4320)              0         \n",
      "_________________________________________________________________\n",
      "dense_7 (Dense)              (None, 32)                138272    \n",
      "_________________________________________________________________\n",
      "dropout_4 (Dropout)          (None, 32)                0         \n",
      "_________________________________________________________________\n",
      "dense_8 (Dense)              (None, 2)                 66        \n",
      "=================================================================\n",
      "Total params: 138,396\n",
      "Trainable params: 138,396\n",
      "Non-trainable params: 0\n",
      "_________________________________________________________________\n"
     ]
    }
   ],
   "source": [
    "model.summary()"
   ]
  },
  {
   "cell_type": "code",
   "execution_count": 11,
   "metadata": {
    "colab": {},
    "colab_type": "code",
    "id": "sOmLCJK5YPYW"
   },
   "outputs": [],
   "source": [
    "test_loss, test_acc = model.evaluate(x, y, verbose=0)"
   ]
  },
  {
   "cell_type": "code",
   "execution_count": 12,
   "metadata": {
    "colab": {
     "base_uri": "https://localhost:8080/",
     "height": 54
    },
    "colab_type": "code",
    "executionInfo": {
     "elapsed": 31266,
     "status": "ok",
     "timestamp": 1593138682308,
     "user": {
      "displayName": "Edgar Hernandez",
      "photoUrl": "",
      "userId": "00870877253637619537"
     },
     "user_tz": 300
    },
    "id": "MZzPTKdzYPbh",
    "outputId": "05987346-2491-4f89-b08c-09f43875b8c6"
   },
   "outputs": [
    {
     "name": "stdout",
     "output_type": "stream",
     "text": [
      "loss: 2.8649\n",
      "accuracy: 0.3750\n"
     ]
    }
   ],
   "source": [
    "print(\"loss: %.4f\" % test_loss)\n",
    "print(\"accuracy: %.4f\" % test_acc)"
   ]
  },
  {
   "cell_type": "code",
   "execution_count": 13,
   "metadata": {
    "colab": {},
    "colab_type": "code",
    "id": "a4kcH0x_YPgf"
   },
   "outputs": [],
   "source": [
    "probabilidades = model.predict(x)\n",
    "y_pred_todo = np.argmax(probabilidades, 1) #1=fila"
   ]
  },
  {
   "cell_type": "code",
   "execution_count": 14,
   "metadata": {
    "colab": {
     "base_uri": "https://localhost:8080/",
     "height": 36
    },
    "colab_type": "code",
    "executionInfo": {
     "elapsed": 32197,
     "status": "ok",
     "timestamp": 1593138684140,
     "user": {
      "displayName": "Edgar Hernandez",
      "photoUrl": "",
      "userId": "00870877253637619537"
     },
     "user_tz": 300
    },
    "id": "Iv-QEcQbbb1K",
    "outputId": "62274de4-feef-480f-d269-1a817fed143a"
   },
   "outputs": [
    {
     "name": "stdout",
     "output_type": "stream",
     "text": [
      "f1: 0.2844289192336191\n"
     ]
    }
   ],
   "source": [
    "f1 = f1_score(y, y_pred_todo, average='macro')\n",
    "print(\"f1:\", f1)"
   ]
  },
  {
   "cell_type": "code",
   "execution_count": 15,
   "metadata": {
    "colab": {
     "base_uri": "https://localhost:8080/",
     "height": 73
    },
    "colab_type": "code",
    "executionInfo": {
     "elapsed": 31579,
     "status": "ok",
     "timestamp": 1593138684143,
     "user": {
      "displayName": "Edgar Hernandez",
      "photoUrl": "",
      "userId": "00870877253637619537"
     },
     "user_tz": 300
    },
    "id": "6inZrj9XYPe4",
    "outputId": "70551505-0b92-4c9a-89ca-f8393d94cf7a"
   },
   "outputs": [
    {
     "name": "stdout",
     "output_type": "stream",
     "text": [
      "confusion matrix:\n",
      " [[114   0]\n",
      " [195   3]]\n"
     ]
    }
   ],
   "source": [
    "matriz_confusion = confusion_matrix(y, y_pred_todo)\n",
    "print(\"confusion matrix:\\n\", matriz_confusion)  "
   ]
  },
  {
   "cell_type": "code",
   "execution_count": 16,
   "metadata": {
    "colab": {
     "base_uri": "https://localhost:8080/",
     "height": 36
    },
    "colab_type": "code",
    "executionInfo": {
     "elapsed": 30854,
     "status": "ok",
     "timestamp": 1593138684145,
     "user": {
      "displayName": "Edgar Hernandez",
      "photoUrl": "",
      "userId": "00870877253637619537"
     },
     "user_tz": 300
    },
    "id": "UoULXeqYYahw",
    "outputId": "63d0debf-be2d-494f-f9af-8bf1b88dcff1"
   },
   "outputs": [
    {
     "name": "stdout",
     "output_type": "stream",
     "text": [
      "AUC: 0.8891\n"
     ]
    }
   ],
   "source": [
    "probabilidades = probabilidades[:, 1]\n",
    "auc = roc_auc_score(y, probabilidades)\n",
    "#fpr, tpr, thresholds = roc_curve(y, probabilidades)\n",
    "\n",
    "print(\"AUC: %.4f\" % auc)\n",
    "#plt.plot(fpr, tpr)\n",
    "#plt.grid()\n",
    "#plt.xlabel('False Positive Rate')\n",
    "#plt.ylabel('True Positive Rate')\n",
    "#plt.show()"
   ]
  }
 ],
 "metadata": {
  "colab": {
   "authorship_tag": "ABX9TyNu7flsQVAHa9uLste628Xn",
   "collapsed_sections": [],
   "name": "STFT-CNN2D-Predecir.ipynb",
   "provenance": []
  },
  "kernelspec": {
   "display_name": "Python 3",
   "language": "python",
   "name": "python3"
  },
  "language_info": {
   "codemirror_mode": {
    "name": "ipython",
    "version": 3
   },
   "file_extension": ".py",
   "mimetype": "text/x-python",
   "name": "python",
   "nbconvert_exporter": "python",
   "pygments_lexer": "ipython3",
   "version": "3.7.6"
  }
 },
 "nbformat": 4,
 "nbformat_minor": 1
}
